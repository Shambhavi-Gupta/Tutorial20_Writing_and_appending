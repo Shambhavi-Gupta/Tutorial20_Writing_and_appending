{
  "nbformat": 4,
  "nbformat_minor": 0,
  "metadata": {
    "colab": {
      "name": "Tutorial20_Writing_and_appending.ipynb",
      "provenance": [],
      "authorship_tag": "ABX9TyONBEKjLRDrGJ16p+zcyOR8",
      "include_colab_link": true
    },
    "kernelspec": {
      "name": "python3",
      "display_name": "Python 3"
    }
  },
  "cells": [
    {
      "cell_type": "markdown",
      "metadata": {
        "id": "view-in-github",
        "colab_type": "text"
      },
      "source": [
        "<a href=\"https://colab.research.google.com/github/Shambhavi-Gupta/Tutorial20_Writing_and_appending/blob/main/Tutorial20_Writing_and_appending.ipynb\" target=\"_parent\"><img src=\"https://colab.research.google.com/assets/colab-badge.svg\" alt=\"Open In Colab\"/></a>"
      ]
    },
    {
      "cell_type": "code",
      "metadata": {
        "id": "R6oWqF7aUap0"
      },
      "source": [
        "f = open(\"write2.txt\" , \"w\")\r\n",
        "# f.write(\"Best youtube channel for python\")\r\n",
        "# f.close()\r\n",
        "# f = open(\"write2.txt\" , \"a\")\r\n",
        "# f.write(\"Best youtube channel for python\\n\")\r\n",
        "# f.close()\r\n",
        "\r\n",
        " # for seeing how many characters you have written\r\n",
        "\r\n",
        "# a = f.write(\"Best youtube channel for python\")\r\n",
        "# print(a)\r\n",
        "# f.close()\r\n",
        "\r\n",
        "# now if open this file in write made\r\n",
        "# f = open(\"write2.txt\" , \"w\")\r\n",
        "# a = f.write(\"Best youtube channel for python\")\r\n",
        "# print(a)\r\n",
        "# f.close()\r\n",
        "\r\n",
        "#handle read and write both\r\n",
        "f = open(\"write2.txt\", \"r+\")\r\n",
        "print(f.read())\r\n",
        "f.write(\"\\n do it now\")"
      ],
      "execution_count": null,
      "outputs": []
    }
  ]
}